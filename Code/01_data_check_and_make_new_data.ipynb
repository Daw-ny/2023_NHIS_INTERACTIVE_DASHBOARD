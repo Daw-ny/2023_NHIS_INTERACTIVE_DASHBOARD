{
 "cells": [
  {
   "cell_type": "markdown",
   "metadata": {},
   "source": [
    "# Mediwhale Assignment\n",
    "\n",
    "## "
   ]
  },
  {
   "cell_type": "markdown",
   "metadata": {},
   "source": [
    "### 1. Settings"
   ]
  },
  {
   "cell_type": "code",
   "execution_count": 178,
   "metadata": {},
   "outputs": [],
   "source": [
    "# load packages\n",
    "import numpy as np\n",
    "import pandas as pd"
   ]
  },
  {
   "cell_type": "code",
   "execution_count": 179,
   "metadata": {},
   "outputs": [],
   "source": [
    "# load data\n",
    "sc = pd.read_csv('../Data/samchild.csv')\n",
    "sa = pd.read_csv('../Data/samadult.csv')\n",
    "fm = pd.read_csv('../Data/familyxx.csv')"
   ]
  },
  {
   "cell_type": "markdown",
   "metadata": {},
   "source": [
    "### 2. data check"
   ]
  },
  {
   "cell_type": "code",
   "execution_count": 180,
   "metadata": {},
   "outputs": [],
   "source": [
    "# extract the necessary variables\n",
    "fm2 = fm[['HHX', 'FMX', 'FM_STRCP', 'FSBALANC']]\n",
    "\n",
    "sc2 = sc[['HHX', 'FMX', 'FPX', 'SEX', 'AGE_P', 'RACERPI2',\n",
    "          'REGION', 'CHGHT_TC', 'CWGHT_TC', 'BMI_SC',\n",
    "           'CCONDRR6']]\n",
    "\n",
    "sa2 = sa[['HHX', 'FMX', 'FPX', 'SEX', 'AGE_P', 'RACERPI2',\n",
    "          'REGION', 'HYPEV', 'HYPMED2',\n",
    "          'CHLEV', 'CHLMDNW2', 'CHDEV', 'STREV',\n",
    "          'DIBEV1', 'DIBPRE2', 'DIBAGE1', 'DIBPILL1',\n",
    "          'INSLN1', 'KIDWKYR', 'PREGNOW', 'PREGFLYR', 'SMKEV',\n",
    "          'SMKNOW', 'SMKQTTP', 'SMKQTNO', 'ALCAMT',\n",
    "          'ALC12MWK', 'AHEIGHT', 'AWEIGHTP', \n",
    "          'BMI', 'ASICPUSE', 'ASISLEEP', 'DEP_1', 'DEP_2',\n",
    "          'VIGFREQW','MODFREQW', 'STRFREQW']]"
   ]
  },
  {
   "cell_type": "code",
   "execution_count": 181,
   "metadata": {},
   "outputs": [
    {
     "data": {
      "text/plain": [
       "HHX         int64\n",
       "FMX         int64\n",
       "FM_STRCP    int64\n",
       "FSBALANC    int64\n",
       "dtype: object"
      ]
     },
     "execution_count": 181,
     "metadata": {},
     "output_type": "execute_result"
    }
   ],
   "source": [
    "# details\n",
    "fm2.dtypes"
   ]
  },
  {
   "cell_type": "code",
   "execution_count": 182,
   "metadata": {},
   "outputs": [
    {
     "data": {
      "text/plain": [
       "HHX           int64\n",
       "FMX           int64\n",
       "FPX           int64\n",
       "SEX           int64\n",
       "AGE_P         int64\n",
       "RACERPI2      int64\n",
       "REGION        int64\n",
       "CHGHT_TC    float64\n",
       "CWGHT_TC    float64\n",
       "BMI_SC      float64\n",
       "CCONDRR6      int64\n",
       "dtype: object"
      ]
     },
     "execution_count": 182,
     "metadata": {},
     "output_type": "execute_result"
    }
   ],
   "source": [
    "sc2.dtypes"
   ]
  },
  {
   "cell_type": "code",
   "execution_count": 183,
   "metadata": {},
   "outputs": [
    {
     "data": {
      "text/plain": [
       "HHX           int64\n",
       "FMX           int64\n",
       "FPX           int64\n",
       "SEX           int64\n",
       "AGE_P         int64\n",
       "RACERPI2      int64\n",
       "REGION        int64\n",
       "HYPEV         int64\n",
       "HYPMED2     float64\n",
       "CHLEV         int64\n",
       "CHLMDNW2    float64\n",
       "CHDEV         int64\n",
       "STREV         int64\n",
       "DIBEV1        int64\n",
       "DIBPRE2     float64\n",
       "DIBAGE1     float64\n",
       "DIBPILL1    float64\n",
       "INSLN1      float64\n",
       "KIDWKYR       int64\n",
       "PREGNOW     float64\n",
       "PREGFLYR    float64\n",
       "SMKEV         int64\n",
       "SMKNOW      float64\n",
       "SMKQTTP     float64\n",
       "SMKQTNO     float64\n",
       "ALCAMT      float64\n",
       "ALC12MWK    float64\n",
       "AHEIGHT       int64\n",
       "AWEIGHTP      int64\n",
       "BMI           int64\n",
       "ASICPUSE      int64\n",
       "ASISLEEP      int64\n",
       "DEP_1         int64\n",
       "DEP_2         int64\n",
       "VIGFREQW      int64\n",
       "MODFREQW      int64\n",
       "STRFREQW      int64\n",
       "dtype: object"
      ]
     },
     "execution_count": 183,
     "metadata": {},
     "output_type": "execute_result"
    }
   ],
   "source": [
    "sa2.dtypes"
   ]
  },
  {
   "cell_type": "code",
   "execution_count": 184,
   "metadata": {},
   "outputs": [
    {
     "data": {
      "text/plain": [
       "HHX         0\n",
       "FMX         0\n",
       "FM_STRCP    0\n",
       "FSBALANC    0\n",
       "dtype: int64"
      ]
     },
     "execution_count": 184,
     "metadata": {},
     "output_type": "execute_result"
    }
   ],
   "source": [
    "# check NA\n",
    "fm2.isna().sum()"
   ]
  },
  {
   "cell_type": "code",
   "execution_count": 185,
   "metadata": {},
   "outputs": [
    {
     "data": {
      "text/plain": [
       "HHX            0\n",
       "FMX            0\n",
       "FPX            0\n",
       "SEX            0\n",
       "AGE_P          0\n",
       "RACERPI2       0\n",
       "REGION         0\n",
       "CHGHT_TC    5185\n",
       "CWGHT_TC    5185\n",
       "BMI_SC      5185\n",
       "CCONDRR6       0\n",
       "dtype: int64"
      ]
     },
     "execution_count": 185,
     "metadata": {},
     "output_type": "execute_result"
    }
   ],
   "source": [
    "sc2.isna().sum()"
   ]
  },
  {
   "cell_type": "code",
   "execution_count": 186,
   "metadata": {},
   "outputs": [
    {
     "data": {
      "text/plain": [
       "DIBAGE1     22482\n",
       "INSLN1      20648\n",
       "DIBPILL1    20648\n",
       "CHLMDNW2    19447\n",
       "PREGFLYR    19414\n",
       "PREGNOW     19300\n",
       "SMKQTNO     19134\n",
       "SMKQTTP     19134\n",
       "HYPMED2     17190\n",
       "SMKNOW      15370\n",
       "ALCAMT       8817\n",
       "ALC12MWK     4665\n",
       "DIBPRE2      2935\n",
       "HHX             0\n",
       "AHEIGHT         0\n",
       "BMI             0\n",
       "ASICPUSE        0\n",
       "ASISLEEP        0\n",
       "DEP_1           0\n",
       "DEP_2           0\n",
       "VIGFREQW        0\n",
       "MODFREQW        0\n",
       "AWEIGHTP        0\n",
       "KIDWKYR         0\n",
       "SMKEV           0\n",
       "FMX             0\n",
       "DIBEV1          0\n",
       "STREV           0\n",
       "CHDEV           0\n",
       "CHLEV           0\n",
       "HYPEV           0\n",
       "REGION          0\n",
       "RACERPI2        0\n",
       "AGE_P           0\n",
       "SEX             0\n",
       "FPX             0\n",
       "STRFREQW        0\n",
       "dtype: int64"
      ]
     },
     "execution_count": 186,
     "metadata": {},
     "output_type": "execute_result"
    }
   ],
   "source": [
    "sa2.isna().sum().sort_values(ascending = False)"
   ]
  },
  {
   "cell_type": "code",
   "execution_count": 187,
   "metadata": {},
   "outputs": [
    {
     "data": {
      "text/html": [
       "<div>\n",
       "<style scoped>\n",
       "    .dataframe tbody tr th:only-of-type {\n",
       "        vertical-align: middle;\n",
       "    }\n",
       "\n",
       "    .dataframe tbody tr th {\n",
       "        vertical-align: top;\n",
       "    }\n",
       "\n",
       "    .dataframe thead th {\n",
       "        text-align: right;\n",
       "    }\n",
       "</style>\n",
       "<table border=\"1\" class=\"dataframe\">\n",
       "  <thead>\n",
       "    <tr style=\"text-align: right;\">\n",
       "      <th></th>\n",
       "      <th>HHX</th>\n",
       "      <th>FMX</th>\n",
       "      <th>FM_STRCP</th>\n",
       "      <th>FSBALANC</th>\n",
       "    </tr>\n",
       "  </thead>\n",
       "  <tbody>\n",
       "    <tr>\n",
       "      <th>count</th>\n",
       "      <td>30309.000000</td>\n",
       "      <td>30309.000000</td>\n",
       "      <td>30309.000000</td>\n",
       "      <td>30309.000000</td>\n",
       "    </tr>\n",
       "    <tr>\n",
       "      <th>mean</th>\n",
       "      <td>27644.028506</td>\n",
       "      <td>1.022073</td>\n",
       "      <td>23.906463</td>\n",
       "      <td>2.875647</td>\n",
       "    </tr>\n",
       "    <tr>\n",
       "      <th>std</th>\n",
       "      <td>16065.824933</td>\n",
       "      <td>0.202126</td>\n",
       "      <td>11.865978</td>\n",
       "      <td>0.440700</td>\n",
       "    </tr>\n",
       "    <tr>\n",
       "      <th>min</th>\n",
       "      <td>1.000000</td>\n",
       "      <td>1.000000</td>\n",
       "      <td>11.000000</td>\n",
       "      <td>1.000000</td>\n",
       "    </tr>\n",
       "    <tr>\n",
       "      <th>25%</th>\n",
       "      <td>13810.000000</td>\n",
       "      <td>1.000000</td>\n",
       "      <td>11.000000</td>\n",
       "      <td>3.000000</td>\n",
       "    </tr>\n",
       "    <tr>\n",
       "      <th>50%</th>\n",
       "      <td>27513.000000</td>\n",
       "      <td>1.000000</td>\n",
       "      <td>21.000000</td>\n",
       "      <td>3.000000</td>\n",
       "    </tr>\n",
       "    <tr>\n",
       "      <th>75%</th>\n",
       "      <td>41619.000000</td>\n",
       "      <td>1.000000</td>\n",
       "      <td>32.000000</td>\n",
       "      <td>3.000000</td>\n",
       "    </tr>\n",
       "    <tr>\n",
       "      <th>max</th>\n",
       "      <td>55563.000000</td>\n",
       "      <td>6.000000</td>\n",
       "      <td>99.000000</td>\n",
       "      <td>9.000000</td>\n",
       "    </tr>\n",
       "  </tbody>\n",
       "</table>\n",
       "</div>"
      ],
      "text/plain": [
       "                HHX           FMX      FM_STRCP      FSBALANC\n",
       "count  30309.000000  30309.000000  30309.000000  30309.000000\n",
       "mean   27644.028506      1.022073     23.906463      2.875647\n",
       "std    16065.824933      0.202126     11.865978      0.440700\n",
       "min        1.000000      1.000000     11.000000      1.000000\n",
       "25%    13810.000000      1.000000     11.000000      3.000000\n",
       "50%    27513.000000      1.000000     21.000000      3.000000\n",
       "75%    41619.000000      1.000000     32.000000      3.000000\n",
       "max    55563.000000      6.000000     99.000000      9.000000"
      ]
     },
     "execution_count": 187,
     "metadata": {},
     "output_type": "execute_result"
    }
   ],
   "source": [
    "# describe data\n",
    "fm2.describe()"
   ]
  },
  {
   "cell_type": "code",
   "execution_count": 188,
   "metadata": {},
   "outputs": [
    {
     "data": {
      "text/html": [
       "<div>\n",
       "<style scoped>\n",
       "    .dataframe tbody tr th:only-of-type {\n",
       "        vertical-align: middle;\n",
       "    }\n",
       "\n",
       "    .dataframe tbody tr th {\n",
       "        vertical-align: top;\n",
       "    }\n",
       "\n",
       "    .dataframe thead th {\n",
       "        text-align: right;\n",
       "    }\n",
       "</style>\n",
       "<table border=\"1\" class=\"dataframe\">\n",
       "  <thead>\n",
       "    <tr style=\"text-align: right;\">\n",
       "      <th></th>\n",
       "      <th>HHX</th>\n",
       "      <th>FMX</th>\n",
       "      <th>FPX</th>\n",
       "      <th>SEX</th>\n",
       "      <th>AGE_P</th>\n",
       "      <th>RACERPI2</th>\n",
       "      <th>REGION</th>\n",
       "      <th>CHGHT_TC</th>\n",
       "      <th>CWGHT_TC</th>\n",
       "      <th>BMI_SC</th>\n",
       "      <th>CCONDRR6</th>\n",
       "    </tr>\n",
       "  </thead>\n",
       "  <tbody>\n",
       "    <tr>\n",
       "      <th>count</th>\n",
       "      <td>8269.000000</td>\n",
       "      <td>8269.000000</td>\n",
       "      <td>8269.000000</td>\n",
       "      <td>8269.000000</td>\n",
       "      <td>8269.000000</td>\n",
       "      <td>8269.000000</td>\n",
       "      <td>8269.000000</td>\n",
       "      <td>3084.000000</td>\n",
       "      <td>3084.000000</td>\n",
       "      <td>3084.000000</td>\n",
       "      <td>8269.000000</td>\n",
       "    </tr>\n",
       "    <tr>\n",
       "      <th>mean</th>\n",
       "      <td>27530.773249</td>\n",
       "      <td>1.001209</td>\n",
       "      <td>3.505623</td>\n",
       "      <td>1.475511</td>\n",
       "      <td>8.911839</td>\n",
       "      <td>1.643125</td>\n",
       "      <td>2.726085</td>\n",
       "      <td>68.777562</td>\n",
       "      <td>253.862192</td>\n",
       "      <td>2768.411803</td>\n",
       "      <td>1.999637</td>\n",
       "    </tr>\n",
       "    <tr>\n",
       "      <th>std</th>\n",
       "      <td>16067.323237</td>\n",
       "      <td>0.038078</td>\n",
       "      <td>1.078049</td>\n",
       "      <td>0.499430</td>\n",
       "      <td>5.314842</td>\n",
       "      <td>1.344408</td>\n",
       "      <td>1.009664</td>\n",
       "      <td>11.189046</td>\n",
       "      <td>300.460035</td>\n",
       "      <td>2011.603546</td>\n",
       "      <td>0.103751</td>\n",
       "    </tr>\n",
       "    <tr>\n",
       "      <th>min</th>\n",
       "      <td>4.000000</td>\n",
       "      <td>1.000000</td>\n",
       "      <td>1.000000</td>\n",
       "      <td>1.000000</td>\n",
       "      <td>0.000000</td>\n",
       "      <td>1.000000</td>\n",
       "      <td>1.000000</td>\n",
       "      <td>49.000000</td>\n",
       "      <td>61.000000</td>\n",
       "      <td>79.000000</td>\n",
       "      <td>1.000000</td>\n",
       "    </tr>\n",
       "    <tr>\n",
       "      <th>25%</th>\n",
       "      <td>13489.000000</td>\n",
       "      <td>1.000000</td>\n",
       "      <td>3.000000</td>\n",
       "      <td>1.000000</td>\n",
       "      <td>4.000000</td>\n",
       "      <td>1.000000</td>\n",
       "      <td>2.000000</td>\n",
       "      <td>62.000000</td>\n",
       "      <td>114.000000</td>\n",
       "      <td>1920.000000</td>\n",
       "      <td>2.000000</td>\n",
       "    </tr>\n",
       "    <tr>\n",
       "      <th>50%</th>\n",
       "      <td>27540.000000</td>\n",
       "      <td>1.000000</td>\n",
       "      <td>3.000000</td>\n",
       "      <td>1.000000</td>\n",
       "      <td>9.000000</td>\n",
       "      <td>1.000000</td>\n",
       "      <td>3.000000</td>\n",
       "      <td>66.000000</td>\n",
       "      <td>135.000000</td>\n",
       "      <td>2167.000000</td>\n",
       "      <td>2.000000</td>\n",
       "    </tr>\n",
       "    <tr>\n",
       "      <th>75%</th>\n",
       "      <td>41427.000000</td>\n",
       "      <td>1.000000</td>\n",
       "      <td>4.000000</td>\n",
       "      <td>2.000000</td>\n",
       "      <td>14.000000</td>\n",
       "      <td>2.000000</td>\n",
       "      <td>4.000000</td>\n",
       "      <td>70.000000</td>\n",
       "      <td>175.000000</td>\n",
       "      <td>2585.000000</td>\n",
       "      <td>2.000000</td>\n",
       "    </tr>\n",
       "    <tr>\n",
       "      <th>max</th>\n",
       "      <td>55542.000000</td>\n",
       "      <td>3.000000</td>\n",
       "      <td>12.000000</td>\n",
       "      <td>2.000000</td>\n",
       "      <td>17.000000</td>\n",
       "      <td>6.000000</td>\n",
       "      <td>4.000000</td>\n",
       "      <td>99.000000</td>\n",
       "      <td>999.000000</td>\n",
       "      <td>9999.000000</td>\n",
       "      <td>9.000000</td>\n",
       "    </tr>\n",
       "  </tbody>\n",
       "</table>\n",
       "</div>"
      ],
      "text/plain": [
       "                HHX          FMX          FPX          SEX        AGE_P  \\\n",
       "count   8269.000000  8269.000000  8269.000000  8269.000000  8269.000000   \n",
       "mean   27530.773249     1.001209     3.505623     1.475511     8.911839   \n",
       "std    16067.323237     0.038078     1.078049     0.499430     5.314842   \n",
       "min        4.000000     1.000000     1.000000     1.000000     0.000000   \n",
       "25%    13489.000000     1.000000     3.000000     1.000000     4.000000   \n",
       "50%    27540.000000     1.000000     3.000000     1.000000     9.000000   \n",
       "75%    41427.000000     1.000000     4.000000     2.000000    14.000000   \n",
       "max    55542.000000     3.000000    12.000000     2.000000    17.000000   \n",
       "\n",
       "          RACERPI2       REGION     CHGHT_TC     CWGHT_TC       BMI_SC  \\\n",
       "count  8269.000000  8269.000000  3084.000000  3084.000000  3084.000000   \n",
       "mean      1.643125     2.726085    68.777562   253.862192  2768.411803   \n",
       "std       1.344408     1.009664    11.189046   300.460035  2011.603546   \n",
       "min       1.000000     1.000000    49.000000    61.000000    79.000000   \n",
       "25%       1.000000     2.000000    62.000000   114.000000  1920.000000   \n",
       "50%       1.000000     3.000000    66.000000   135.000000  2167.000000   \n",
       "75%       2.000000     4.000000    70.000000   175.000000  2585.000000   \n",
       "max       6.000000     4.000000    99.000000   999.000000  9999.000000   \n",
       "\n",
       "          CCONDRR6  \n",
       "count  8269.000000  \n",
       "mean      1.999637  \n",
       "std       0.103751  \n",
       "min       1.000000  \n",
       "25%       2.000000  \n",
       "50%       2.000000  \n",
       "75%       2.000000  \n",
       "max       9.000000  "
      ]
     },
     "execution_count": 188,
     "metadata": {},
     "output_type": "execute_result"
    }
   ],
   "source": [
    "sc2.describe()"
   ]
  },
  {
   "cell_type": "code",
   "execution_count": 189,
   "metadata": {},
   "outputs": [
    {
     "data": {
      "text/html": [
       "<div>\n",
       "<style scoped>\n",
       "    .dataframe tbody tr th:only-of-type {\n",
       "        vertical-align: middle;\n",
       "    }\n",
       "\n",
       "    .dataframe tbody tr th {\n",
       "        vertical-align: top;\n",
       "    }\n",
       "\n",
       "    .dataframe thead th {\n",
       "        text-align: right;\n",
       "    }\n",
       "</style>\n",
       "<table border=\"1\" class=\"dataframe\">\n",
       "  <thead>\n",
       "    <tr style=\"text-align: right;\">\n",
       "      <th></th>\n",
       "      <th>HHX</th>\n",
       "      <th>FMX</th>\n",
       "      <th>FPX</th>\n",
       "      <th>SEX</th>\n",
       "      <th>AGE_P</th>\n",
       "      <th>RACERPI2</th>\n",
       "      <th>REGION</th>\n",
       "      <th>HYPEV</th>\n",
       "      <th>HYPMED2</th>\n",
       "      <th>CHLEV</th>\n",
       "      <th>...</th>\n",
       "      <th>AHEIGHT</th>\n",
       "      <th>AWEIGHTP</th>\n",
       "      <th>BMI</th>\n",
       "      <th>ASICPUSE</th>\n",
       "      <th>ASISLEEP</th>\n",
       "      <th>DEP_1</th>\n",
       "      <th>DEP_2</th>\n",
       "      <th>VIGFREQW</th>\n",
       "      <th>MODFREQW</th>\n",
       "      <th>STRFREQW</th>\n",
       "    </tr>\n",
       "  </thead>\n",
       "  <tbody>\n",
       "    <tr>\n",
       "      <th>count</th>\n",
       "      <td>25417.000000</td>\n",
       "      <td>25417.000000</td>\n",
       "      <td>25417.000000</td>\n",
       "      <td>25417.000000</td>\n",
       "      <td>25417.000000</td>\n",
       "      <td>25417.000000</td>\n",
       "      <td>25417.000000</td>\n",
       "      <td>25417.000000</td>\n",
       "      <td>8227.000000</td>\n",
       "      <td>25417.000000</td>\n",
       "      <td>...</td>\n",
       "      <td>25417.000000</td>\n",
       "      <td>25417.000000</td>\n",
       "      <td>25417.000000</td>\n",
       "      <td>25417.000000</td>\n",
       "      <td>25417.000000</td>\n",
       "      <td>25417.000000</td>\n",
       "      <td>25417.000000</td>\n",
       "      <td>25417.000000</td>\n",
       "      <td>25417.000000</td>\n",
       "      <td>25417.000000</td>\n",
       "    </tr>\n",
       "    <tr>\n",
       "      <th>mean</th>\n",
       "      <td>27697.721958</td>\n",
       "      <td>1.023095</td>\n",
       "      <td>1.371444</td>\n",
       "      <td>1.545580</td>\n",
       "      <td>51.688752</td>\n",
       "      <td>1.420073</td>\n",
       "      <td>2.676516</td>\n",
       "      <td>1.648660</td>\n",
       "      <td>1.104655</td>\n",
       "      <td>1.710233</td>\n",
       "      <td>...</td>\n",
       "      <td>68.794822</td>\n",
       "      <td>250.065822</td>\n",
       "      <td>3037.059645</td>\n",
       "      <td>3.166778</td>\n",
       "      <td>9.322579</td>\n",
       "      <td>4.394618</td>\n",
       "      <td>2.085101</td>\n",
       "      <td>52.128064</td>\n",
       "      <td>38.022465</td>\n",
       "      <td>66.274265</td>\n",
       "    </tr>\n",
       "    <tr>\n",
       "      <th>std</th>\n",
       "      <td>16089.330294</td>\n",
       "      <td>0.207037</td>\n",
       "      <td>0.668676</td>\n",
       "      <td>0.497928</td>\n",
       "      <td>18.338124</td>\n",
       "      <td>1.028510</td>\n",
       "      <td>1.008976</td>\n",
       "      <td>0.556761</td>\n",
       "      <td>0.337842</td>\n",
       "      <td>0.611275</td>\n",
       "      <td>...</td>\n",
       "      <td>8.385847</td>\n",
       "      <td>237.273920</td>\n",
       "      <td>1396.229777</td>\n",
       "      <td>1.378885</td>\n",
       "      <td>14.198576</td>\n",
       "      <td>1.277730</td>\n",
       "      <td>1.103349</td>\n",
       "      <td>45.513026</td>\n",
       "      <td>43.622715</td>\n",
       "      <td>42.446561</td>\n",
       "    </tr>\n",
       "    <tr>\n",
       "      <th>min</th>\n",
       "      <td>1.000000</td>\n",
       "      <td>1.000000</td>\n",
       "      <td>1.000000</td>\n",
       "      <td>1.000000</td>\n",
       "      <td>18.000000</td>\n",
       "      <td>1.000000</td>\n",
       "      <td>1.000000</td>\n",
       "      <td>1.000000</td>\n",
       "      <td>1.000000</td>\n",
       "      <td>1.000000</td>\n",
       "      <td>...</td>\n",
       "      <td>59.000000</td>\n",
       "      <td>100.000000</td>\n",
       "      <td>1171.000000</td>\n",
       "      <td>1.000000</td>\n",
       "      <td>1.000000</td>\n",
       "      <td>1.000000</td>\n",
       "      <td>1.000000</td>\n",
       "      <td>0.000000</td>\n",
       "      <td>0.000000</td>\n",
       "      <td>0.000000</td>\n",
       "    </tr>\n",
       "    <tr>\n",
       "      <th>25%</th>\n",
       "      <td>13828.000000</td>\n",
       "      <td>1.000000</td>\n",
       "      <td>1.000000</td>\n",
       "      <td>1.000000</td>\n",
       "      <td>36.000000</td>\n",
       "      <td>1.000000</td>\n",
       "      <td>2.000000</td>\n",
       "      <td>1.000000</td>\n",
       "      <td>1.000000</td>\n",
       "      <td>1.000000</td>\n",
       "      <td>...</td>\n",
       "      <td>64.000000</td>\n",
       "      <td>150.000000</td>\n",
       "      <td>2378.000000</td>\n",
       "      <td>2.000000</td>\n",
       "      <td>6.000000</td>\n",
       "      <td>4.000000</td>\n",
       "      <td>2.000000</td>\n",
       "      <td>3.000000</td>\n",
       "      <td>3.000000</td>\n",
       "      <td>5.000000</td>\n",
       "    </tr>\n",
       "    <tr>\n",
       "      <th>50%</th>\n",
       "      <td>27513.000000</td>\n",
       "      <td>1.000000</td>\n",
       "      <td>1.000000</td>\n",
       "      <td>2.000000</td>\n",
       "      <td>53.000000</td>\n",
       "      <td>1.000000</td>\n",
       "      <td>3.000000</td>\n",
       "      <td>2.000000</td>\n",
       "      <td>1.000000</td>\n",
       "      <td>2.000000</td>\n",
       "      <td>...</td>\n",
       "      <td>67.000000</td>\n",
       "      <td>178.000000</td>\n",
       "      <td>2734.000000</td>\n",
       "      <td>4.000000</td>\n",
       "      <td>7.000000</td>\n",
       "      <td>5.000000</td>\n",
       "      <td>2.000000</td>\n",
       "      <td>95.000000</td>\n",
       "      <td>7.000000</td>\n",
       "      <td>95.000000</td>\n",
       "    </tr>\n",
       "    <tr>\n",
       "      <th>75%</th>\n",
       "      <td>41788.000000</td>\n",
       "      <td>1.000000</td>\n",
       "      <td>2.000000</td>\n",
       "      <td>2.000000</td>\n",
       "      <td>66.000000</td>\n",
       "      <td>1.000000</td>\n",
       "      <td>3.000000</td>\n",
       "      <td>2.000000</td>\n",
       "      <td>1.000000</td>\n",
       "      <td>2.000000</td>\n",
       "      <td>...</td>\n",
       "      <td>70.000000</td>\n",
       "      <td>215.000000</td>\n",
       "      <td>3188.000000</td>\n",
       "      <td>4.000000</td>\n",
       "      <td>8.000000</td>\n",
       "      <td>5.000000</td>\n",
       "      <td>2.000000</td>\n",
       "      <td>95.000000</td>\n",
       "      <td>95.000000</td>\n",
       "      <td>95.000000</td>\n",
       "    </tr>\n",
       "    <tr>\n",
       "      <th>max</th>\n",
       "      <td>55563.000000</td>\n",
       "      <td>6.000000</td>\n",
       "      <td>9.000000</td>\n",
       "      <td>2.000000</td>\n",
       "      <td>85.000000</td>\n",
       "      <td>6.000000</td>\n",
       "      <td>4.000000</td>\n",
       "      <td>9.000000</td>\n",
       "      <td>9.000000</td>\n",
       "      <td>9.000000</td>\n",
       "      <td>...</td>\n",
       "      <td>99.000000</td>\n",
       "      <td>999.000000</td>\n",
       "      <td>9999.000000</td>\n",
       "      <td>9.000000</td>\n",
       "      <td>99.000000</td>\n",
       "      <td>9.000000</td>\n",
       "      <td>9.000000</td>\n",
       "      <td>99.000000</td>\n",
       "      <td>99.000000</td>\n",
       "      <td>99.000000</td>\n",
       "    </tr>\n",
       "  </tbody>\n",
       "</table>\n",
       "<p>8 rows × 37 columns</p>\n",
       "</div>"
      ],
      "text/plain": [
       "                HHX           FMX           FPX           SEX         AGE_P  \\\n",
       "count  25417.000000  25417.000000  25417.000000  25417.000000  25417.000000   \n",
       "mean   27697.721958      1.023095      1.371444      1.545580     51.688752   \n",
       "std    16089.330294      0.207037      0.668676      0.497928     18.338124   \n",
       "min        1.000000      1.000000      1.000000      1.000000     18.000000   \n",
       "25%    13828.000000      1.000000      1.000000      1.000000     36.000000   \n",
       "50%    27513.000000      1.000000      1.000000      2.000000     53.000000   \n",
       "75%    41788.000000      1.000000      2.000000      2.000000     66.000000   \n",
       "max    55563.000000      6.000000      9.000000      2.000000     85.000000   \n",
       "\n",
       "           RACERPI2        REGION         HYPEV      HYPMED2         CHLEV  \\\n",
       "count  25417.000000  25417.000000  25417.000000  8227.000000  25417.000000   \n",
       "mean       1.420073      2.676516      1.648660     1.104655      1.710233   \n",
       "std        1.028510      1.008976      0.556761     0.337842      0.611275   \n",
       "min        1.000000      1.000000      1.000000     1.000000      1.000000   \n",
       "25%        1.000000      2.000000      1.000000     1.000000      1.000000   \n",
       "50%        1.000000      3.000000      2.000000     1.000000      2.000000   \n",
       "75%        1.000000      3.000000      2.000000     1.000000      2.000000   \n",
       "max        6.000000      4.000000      9.000000     9.000000      9.000000   \n",
       "\n",
       "       ...       AHEIGHT      AWEIGHTP           BMI      ASICPUSE  \\\n",
       "count  ...  25417.000000  25417.000000  25417.000000  25417.000000   \n",
       "mean   ...     68.794822    250.065822   3037.059645      3.166778   \n",
       "std    ...      8.385847    237.273920   1396.229777      1.378885   \n",
       "min    ...     59.000000    100.000000   1171.000000      1.000000   \n",
       "25%    ...     64.000000    150.000000   2378.000000      2.000000   \n",
       "50%    ...     67.000000    178.000000   2734.000000      4.000000   \n",
       "75%    ...     70.000000    215.000000   3188.000000      4.000000   \n",
       "max    ...     99.000000    999.000000   9999.000000      9.000000   \n",
       "\n",
       "           ASISLEEP         DEP_1         DEP_2      VIGFREQW      MODFREQW  \\\n",
       "count  25417.000000  25417.000000  25417.000000  25417.000000  25417.000000   \n",
       "mean       9.322579      4.394618      2.085101     52.128064     38.022465   \n",
       "std       14.198576      1.277730      1.103349     45.513026     43.622715   \n",
       "min        1.000000      1.000000      1.000000      0.000000      0.000000   \n",
       "25%        6.000000      4.000000      2.000000      3.000000      3.000000   \n",
       "50%        7.000000      5.000000      2.000000     95.000000      7.000000   \n",
       "75%        8.000000      5.000000      2.000000     95.000000     95.000000   \n",
       "max       99.000000      9.000000      9.000000     99.000000     99.000000   \n",
       "\n",
       "           STRFREQW  \n",
       "count  25417.000000  \n",
       "mean      66.274265  \n",
       "std       42.446561  \n",
       "min        0.000000  \n",
       "25%        5.000000  \n",
       "50%       95.000000  \n",
       "75%       95.000000  \n",
       "max       99.000000  \n",
       "\n",
       "[8 rows x 37 columns]"
      ]
     },
     "execution_count": 189,
     "metadata": {},
     "output_type": "execute_result"
    }
   ],
   "source": [
    "sa2.describe()"
   ]
  },
  {
   "cell_type": "markdown",
   "metadata": {},
   "source": [
    "### 3. Data outlier and NA values imputate\n",
    "\n",
    "#### 1) familyxx.csv"
   ]
  },
  {
   "cell_type": "code",
   "execution_count": 190,
   "metadata": {},
   "outputs": [
    {
     "data": {
      "text/html": [
       "<div>\n",
       "<style scoped>\n",
       "    .dataframe tbody tr th:only-of-type {\n",
       "        vertical-align: middle;\n",
       "    }\n",
       "\n",
       "    .dataframe tbody tr th {\n",
       "        vertical-align: top;\n",
       "    }\n",
       "\n",
       "    .dataframe thead th {\n",
       "        text-align: right;\n",
       "    }\n",
       "</style>\n",
       "<table border=\"1\" class=\"dataframe\">\n",
       "  <thead>\n",
       "    <tr style=\"text-align: right;\">\n",
       "      <th></th>\n",
       "      <th>HHX</th>\n",
       "      <th>FMX</th>\n",
       "      <th>FM_STRCP</th>\n",
       "      <th>FSBALANC</th>\n",
       "    </tr>\n",
       "  </thead>\n",
       "  <tbody>\n",
       "    <tr>\n",
       "      <th>50</th>\n",
       "      <td>87</td>\n",
       "      <td>1</td>\n",
       "      <td>12</td>\n",
       "      <td>3</td>\n",
       "    </tr>\n",
       "    <tr>\n",
       "      <th>51</th>\n",
       "      <td>87</td>\n",
       "      <td>2</td>\n",
       "      <td>12</td>\n",
       "      <td>3</td>\n",
       "    </tr>\n",
       "  </tbody>\n",
       "</table>\n",
       "</div>"
      ],
      "text/plain": [
       "    HHX  FMX  FM_STRCP  FSBALANC\n",
       "50   87    1        12         3\n",
       "51   87    2        12         3"
      ]
     },
     "execution_count": 190,
     "metadata": {},
     "output_type": "execute_result"
    }
   ],
   "source": [
    "fm2[fm2['HHX'] == 87]"
   ]
  },
  {
   "cell_type": "code",
   "execution_count": 191,
   "metadata": {},
   "outputs": [
    {
     "data": {
      "text/plain": [
       "FM_STRCP\n",
       "11    8797\n",
       "21    6864\n",
       "41    4027\n",
       "23    3995\n",
       "44    2331\n",
       "22    1085\n",
       "31    1067\n",
       "12     718\n",
       "42     461\n",
       "43     346\n",
       "45     323\n",
       "32     223\n",
       "33      68\n",
       "99       4\n",
       "Name: count, dtype: int64"
      ]
     },
     "execution_count": 191,
     "metadata": {},
     "output_type": "execute_result"
    }
   ],
   "source": [
    "fm2['FM_STRCP'].value_counts()"
   ]
  },
  {
   "cell_type": "code",
   "execution_count": 192,
   "metadata": {},
   "outputs": [
    {
     "name": "stderr",
     "output_type": "stream",
     "text": [
      "C:\\Users\\abc\\AppData\\Local\\Temp\\ipykernel_25880\\1778966851.py:2: SettingWithCopyWarning: \n",
      "A value is trying to be set on a copy of a slice from a DataFrame.\n",
      "Try using .loc[row_indexer,col_indexer] = value instead\n",
      "\n",
      "See the caveats in the documentation: https://pandas.pydata.org/pandas-docs/stable/user_guide/indexing.html#returning-a-view-versus-a-copy\n",
      "  fm2['live_alone'] = 1\n",
      "C:\\Users\\abc\\AppData\\Local\\Temp\\ipykernel_25880\\1778966851.py:3: SettingWithCopyWarning: \n",
      "A value is trying to be set on a copy of a slice from a DataFrame\n",
      "\n",
      "See the caveats in the documentation: https://pandas.pydata.org/pandas-docs/stable/user_guide/indexing.html#returning-a-view-versus-a-copy\n",
      "  fm2['live_alone'][fm2['FM_STRCP'] != 11] = 0\n",
      "C:\\Users\\abc\\AppData\\Local\\Temp\\ipykernel_25880\\1778966851.py:4: SettingWithCopyWarning: \n",
      "A value is trying to be set on a copy of a slice from a DataFrame\n",
      "\n",
      "See the caveats in the documentation: https://pandas.pydata.org/pandas-docs/stable/user_guide/indexing.html#returning-a-view-versus-a-copy\n",
      "  fm2['live_alone'][fm2['FM_STRCP'] == 99] = np.nan\n"
     ]
    }
   ],
   "source": [
    "# 동거인이 있으면 0 없으면 1 Unknown은 np.nan\n",
    "fm2['live_alone'] = 1\n",
    "fm2['live_alone'][fm2['FM_STRCP'] != 11] = 0\n",
    "fm2['live_alone'][fm2['FM_STRCP'] == 99] = np.nan"
   ]
  },
  {
   "cell_type": "code",
   "execution_count": 193,
   "metadata": {},
   "outputs": [
    {
     "data": {
      "text/plain": [
       "FSBALANC\n",
       "3    27326\n",
       "2     2023\n",
       "1      934\n",
       "7       17\n",
       "9        9\n",
       "Name: count, dtype: int64"
      ]
     },
     "execution_count": 193,
     "metadata": {},
     "output_type": "execute_result"
    }
   ],
   "source": [
    "fm2['FSBALANC'].value_counts()"
   ]
  },
  {
   "cell_type": "code",
   "execution_count": 194,
   "metadata": {},
   "outputs": [
    {
     "name": "stderr",
     "output_type": "stream",
     "text": [
      "C:\\Users\\abc\\AppData\\Local\\Temp\\ipykernel_25880\\515270356.py:2: SettingWithCopyWarning: \n",
      "A value is trying to be set on a copy of a slice from a DataFrame.\n",
      "Try using .loc[row_indexer,col_indexer] = value instead\n",
      "\n",
      "See the caveats in the documentation: https://pandas.pydata.org/pandas-docs/stable/user_guide/indexing.html#returning-a-view-versus-a-copy\n",
      "  fm2['imbal_meal'] = 1\n",
      "C:\\Users\\abc\\AppData\\Local\\Temp\\ipykernel_25880\\515270356.py:3: SettingWithCopyWarning: \n",
      "A value is trying to be set on a copy of a slice from a DataFrame\n",
      "\n",
      "See the caveats in the documentation: https://pandas.pydata.org/pandas-docs/stable/user_guide/indexing.html#returning-a-view-versus-a-copy\n",
      "  fm2['imbal_meal'][fm2['FSBALANC'] == 3] = 0\n",
      "C:\\Users\\abc\\AppData\\Local\\Temp\\ipykernel_25880\\515270356.py:4: SettingWithCopyWarning: \n",
      "A value is trying to be set on a copy of a slice from a DataFrame\n",
      "\n",
      "See the caveats in the documentation: https://pandas.pydata.org/pandas-docs/stable/user_guide/indexing.html#returning-a-view-versus-a-copy\n",
      "  fm2['imbal_meal'][fm2['FSBALANC'] == 7] = np.nan\n",
      "C:\\Users\\abc\\AppData\\Local\\Temp\\ipykernel_25880\\515270356.py:5: SettingWithCopyWarning: \n",
      "A value is trying to be set on a copy of a slice from a DataFrame\n",
      "\n",
      "See the caveats in the documentation: https://pandas.pydata.org/pandas-docs/stable/user_guide/indexing.html#returning-a-view-versus-a-copy\n",
      "  fm2['imbal_meal'][fm2['FSBALANC'] == 9] = np.nan\n"
     ]
    }
   ],
   "source": [
    "# 불균형 식사가 이루어지면 1 안 이루어지면 0 결측치는 np.nan\n",
    "fm2['imbal_meal'] = 1\n",
    "fm2['imbal_meal'][fm2['FSBALANC'] == 3] = 0\n",
    "fm2['imbal_meal'][fm2['FSBALANC'] == 7] = np.nan\n",
    "fm2['imbal_meal'][fm2['FSBALANC'] == 9] = np.nan"
   ]
  },
  {
   "cell_type": "code",
   "execution_count": 195,
   "metadata": {},
   "outputs": [],
   "source": [
    "# 사용한 열 제거\n",
    "fm3 = fm2.drop(['FM_STRCP', 'FSBALANC'], axis=1)"
   ]
  },
  {
   "cell_type": "markdown",
   "metadata": {},
   "source": [
    "#### 2) samples"
   ]
  },
  {
   "cell_type": "markdown",
   "metadata": {},
   "source": [
    "- age, sex, region 문제 없음"
   ]
  },
  {
   "cell_type": "code",
   "execution_count": 196,
   "metadata": {},
   "outputs": [
    {
     "data": {
      "text/plain": [
       "RACERPI2\n",
       "1    20173\n",
       "2     2974\n",
       "4     1350\n",
       "6      563\n",
       "3      295\n",
       "5       62\n",
       "Name: count, dtype: int64"
      ]
     },
     "execution_count": 196,
     "metadata": {},
     "output_type": "execute_result"
    }
   ],
   "source": [
    "sa2['RACERPI2'].value_counts()"
   ]
  },
  {
   "cell_type": "code",
   "execution_count": 197,
   "metadata": {},
   "outputs": [
    {
     "name": "stderr",
     "output_type": "stream",
     "text": [
      "C:\\Users\\abc\\AppData\\Local\\Temp\\ipykernel_25880\\2123038255.py:2: SettingWithCopyWarning: \n",
      "A value is trying to be set on a copy of a slice from a DataFrame\n",
      "\n",
      "See the caveats in the documentation: https://pandas.pydata.org/pandas-docs/stable/user_guide/indexing.html#returning-a-view-versus-a-copy\n",
      "  sa2['RACERPI2'][sa2['RACERPI2'] == 6] = 5\n",
      "C:\\Users\\abc\\AppData\\Local\\Temp\\ipykernel_25880\\2123038255.py:3: SettingWithCopyWarning: \n",
      "A value is trying to be set on a copy of a slice from a DataFrame\n",
      "\n",
      "See the caveats in the documentation: https://pandas.pydata.org/pandas-docs/stable/user_guide/indexing.html#returning-a-view-versus-a-copy\n",
      "  sc2['RACERPI2'][sc2['RACERPI2'] == 6] = 5\n"
     ]
    }
   ],
   "source": [
    "# 분류하기 힘든 인종은 multiple race로 포함\n",
    "sa2['RACERPI2'][sa2['RACERPI2'] == 6] = 5\n",
    "sc2['RACERPI2'][sc2['RACERPI2'] == 6] = 5"
   ]
  },
  {
   "cell_type": "code",
   "execution_count": 198,
   "metadata": {},
   "outputs": [
    {
     "data": {
      "text/plain": [
       "HYPEV\n",
       "2    16153\n",
       "1     9217\n",
       "9       26\n",
       "7       21\n",
       "Name: count, dtype: int64"
      ]
     },
     "execution_count": 198,
     "metadata": {},
     "output_type": "execute_result"
    }
   ],
   "source": [
    "sa2['HYPEV'].value_counts()"
   ]
  },
  {
   "cell_type": "code",
   "execution_count": 199,
   "metadata": {},
   "outputs": [
    {
     "data": {
      "text/plain": [
       "HYPMED2\n",
       "1.0    7387\n",
       "2.0     837\n",
       "9.0       3\n",
       "Name: count, dtype: int64"
      ]
     },
     "execution_count": 199,
     "metadata": {},
     "output_type": "execute_result"
    }
   ],
   "source": [
    "sa2['HYPMED2'].value_counts()"
   ]
  },
  {
   "cell_type": "code",
   "execution_count": 200,
   "metadata": {},
   "outputs": [
    {
     "name": "stderr",
     "output_type": "stream",
     "text": [
      "C:\\Users\\abc\\AppData\\Local\\Temp\\ipykernel_25880\\2834121679.py:10: SettingWithCopyWarning: \n",
      "A value is trying to be set on a copy of a slice from a DataFrame.\n",
      "Try using .loc[row_indexer,col_indexer] = value instead\n",
      "\n",
      "See the caveats in the documentation: https://pandas.pydata.org/pandas-docs/stable/user_guide/indexing.html#returning-a-view-versus-a-copy\n",
      "  sa2['hypert'] = np.select(condlist, choicelist, default=np.nan)\n"
     ]
    }
   ],
   "source": [
    "# 고혈압 2: 약물치료까지 병행, 1: 진단 받은적 있음 0: 진단도 받은적 없음\n",
    "\n",
    "### 조건과 선택할 배열들 정의\n",
    "condlist = [(sa2['HYPEV'] == 1) & (sa2['HYPMED2'] == 1),\n",
    "            (sa2['HYPEV'] == 1),\n",
    "            (sa2['HYPEV'] == 2)]\n",
    "choicelist = [2, 1, 0]\n",
    "\n",
    "### 조건에 따라 배열 선택\n",
    "sa2['hypert'] = np.select(condlist, choicelist, default=np.nan)"
   ]
  },
  {
   "cell_type": "code",
   "execution_count": 201,
   "metadata": {},
   "outputs": [
    {
     "name": "stderr",
     "output_type": "stream",
     "text": [
      "C:\\Users\\abc\\AppData\\Local\\Temp\\ipykernel_25880\\3903829124.py:10: SettingWithCopyWarning: \n",
      "A value is trying to be set on a copy of a slice from a DataFrame.\n",
      "Try using .loc[row_indexer,col_indexer] = value instead\n",
      "\n",
      "See the caveats in the documentation: https://pandas.pydata.org/pandas-docs/stable/user_guide/indexing.html#returning-a-view-versus-a-copy\n",
      "  sa2['chol'] = np.select(condlist, choicelist, default=np.nan)\n"
     ]
    }
   ],
   "source": [
    "# 콜레스테롤 2: 약물치료까지 병행, 1: 진단 받은적 있음 0: 진단도 받은적 없음\n",
    "\n",
    "### 조건과 선택할 배열들 정의\n",
    "condlist = [(sa2['CHLEV'] == 1) & (sa2['CHLMDNW2'] == 1),\n",
    "            (sa2['CHLEV'] == 1),\n",
    "            (sa2['CHLEV'] == 2)]\n",
    "choicelist = [2, 1, 0]\n",
    "\n",
    "### 조건에 따라 배열 선택\n",
    "sa2['chol'] = np.select(condlist, choicelist, default=np.nan)"
   ]
  },
  {
   "cell_type": "code",
   "execution_count": 202,
   "metadata": {},
   "outputs": [
    {
     "name": "stderr",
     "output_type": "stream",
     "text": [
      "C:\\Users\\abc\\AppData\\Local\\Temp\\ipykernel_25880\\1513815538.py:9: SettingWithCopyWarning: \n",
      "A value is trying to be set on a copy of a slice from a DataFrame.\n",
      "Try using .loc[row_indexer,col_indexer] = value instead\n",
      "\n",
      "See the caveats in the documentation: https://pandas.pydata.org/pandas-docs/stable/user_guide/indexing.html#returning-a-view-versus-a-copy\n",
      "  sa2['chdev'] = np.select(condlist, choicelist, default=np.nan)\n"
     ]
    }
   ],
   "source": [
    "# 관상동맥질환 1: 진단 받은적 있음 0: 진단도 받은적 없음\n",
    "\n",
    "### 조건과 선택할 배열들 정의\n",
    "condlist = [(sa2['CHDEV'] == 1),\n",
    "            (sa2['CHDEV'] == 2)]\n",
    "choicelist = [1, 0]\n",
    "\n",
    "### 조건에 따라 배열 선택\n",
    "sa2['chdev'] = np.select(condlist, choicelist, default=np.nan)"
   ]
  },
  {
   "cell_type": "code",
   "execution_count": 203,
   "metadata": {},
   "outputs": [
    {
     "name": "stderr",
     "output_type": "stream",
     "text": [
      "C:\\Users\\abc\\AppData\\Local\\Temp\\ipykernel_25880\\634238032.py:9: SettingWithCopyWarning: \n",
      "A value is trying to be set on a copy of a slice from a DataFrame.\n",
      "Try using .loc[row_indexer,col_indexer] = value instead\n",
      "\n",
      "See the caveats in the documentation: https://pandas.pydata.org/pandas-docs/stable/user_guide/indexing.html#returning-a-view-versus-a-copy\n",
      "  sa2['strev'] = np.select(condlist, choicelist, default=np.nan)\n"
     ]
    }
   ],
   "source": [
    "# 뇌졸중 1: 진단 받은적 있음 0: 진단도 받은적 없음\n",
    "\n",
    "### 조건과 선택할 배열들 정의\n",
    "condlist = [(sa2['STREV'] == 1),\n",
    "            (sa2['STREV'] == 2)]\n",
    "choicelist = [1, 0]\n",
    "\n",
    "### 조건에 따라 배열 선택\n",
    "sa2['strev'] = np.select(condlist, choicelist, default=np.nan)"
   ]
  },
  {
   "cell_type": "code",
   "execution_count": 204,
   "metadata": {},
   "outputs": [
    {
     "name": "stderr",
     "output_type": "stream",
     "text": [
      "C:\\Users\\abc\\AppData\\Local\\Temp\\ipykernel_25880\\3140601439.py:10: SettingWithCopyWarning: \n",
      "A value is trying to be set on a copy of a slice from a DataFrame.\n",
      "Try using .loc[row_indexer,col_indexer] = value instead\n",
      "\n",
      "See the caveats in the documentation: https://pandas.pydata.org/pandas-docs/stable/user_guide/indexing.html#returning-a-view-versus-a-copy\n",
      "  sa2['depress'] = np.select(condlist, choicelist, default=np.nan)\n"
     ]
    }
   ],
   "source": [
    "# 우울증 2: 약물치료까지 병행, 1: 진단 받은적 있음 0: 진단도 받은적 없음\n",
    "\n",
    "### 조건과 선택할 배열들 정의\n",
    "condlist = [(sa2['DEP_2'] == 1),\n",
    "            (sa2['DEP_1'].isin([1, 2, 3])),\n",
    "            (sa2['CHLEV'].isin([4, 5]))]\n",
    "choicelist = [2, 1, 0]\n",
    "\n",
    "### 조건에 따라 배열 선택\n",
    "sa2['depress'] = np.select(condlist, choicelist, default=np.nan)"
   ]
  },
  {
   "cell_type": "code",
   "execution_count": 205,
   "metadata": {},
   "outputs": [
    {
     "name": "stderr",
     "output_type": "stream",
     "text": [
      "C:\\Users\\abc\\AppData\\Local\\Temp\\ipykernel_25880\\168064532.py:5: SettingWithCopyWarning: \n",
      "A value is trying to be set on a copy of a slice from a DataFrame.\n",
      "Try using .loc[row_indexer,col_indexer] = value instead\n",
      "\n",
      "See the caveats in the documentation: https://pandas.pydata.org/pandas-docs/stable/user_guide/indexing.html#returning-a-view-versus-a-copy\n",
      "  sa2['preg'] = np.where((sa2['PREGNOW'] == 1) | (sa2['PREGFLYR'] ==1), 1, 0)\n"
     ]
    }
   ],
   "source": [
    "### 임신상태 1: 최근까지 임신이었거나 현재 임신중 0: 아님\n",
    "### 임신 변수 같은 경우 해당되는 사람 이외에는 아닌 경우로 취급\n",
    "\n",
    "### 조건에 따라 선택\n",
    "sa2['preg'] = np.where((sa2['PREGNOW'] == 1) | (sa2['PREGFLYR'] ==1), 1, 0)"
   ]
  },
  {
   "cell_type": "code",
   "execution_count": 206,
   "metadata": {},
   "outputs": [
    {
     "data": {
      "text/plain": [
       "KIDWKYR\n",
       "2    24668\n",
       "1      721\n",
       "9       15\n",
       "7       13\n",
       "Name: count, dtype: int64"
      ]
     },
     "execution_count": 206,
     "metadata": {},
     "output_type": "execute_result"
    }
   ],
   "source": [
    "sa2['KIDWKYR'].value_counts()"
   ]
  },
  {
   "cell_type": "code",
   "execution_count": 207,
   "metadata": {},
   "outputs": [
    {
     "name": "stderr",
     "output_type": "stream",
     "text": [
      "C:\\Users\\abc\\AppData\\Local\\Temp\\ipykernel_25880\\3979012661.py:2: SettingWithCopyWarning: \n",
      "A value is trying to be set on a copy of a slice from a DataFrame.\n",
      "Try using .loc[row_indexer,col_indexer] = value instead\n",
      "\n",
      "See the caveats in the documentation: https://pandas.pydata.org/pandas-docs/stable/user_guide/indexing.html#returning-a-view-versus-a-copy\n",
      "  sa2['kidney'] = 1\n",
      "C:\\Users\\abc\\AppData\\Local\\Temp\\ipykernel_25880\\3979012661.py:3: SettingWithCopyWarning: \n",
      "A value is trying to be set on a copy of a slice from a DataFrame\n",
      "\n",
      "See the caveats in the documentation: https://pandas.pydata.org/pandas-docs/stable/user_guide/indexing.html#returning-a-view-versus-a-copy\n",
      "  sa2['kidney'][sa2['KIDWKYR'] == 2] = 0\n",
      "C:\\Users\\abc\\AppData\\Local\\Temp\\ipykernel_25880\\3979012661.py:4: SettingWithCopyWarning: \n",
      "A value is trying to be set on a copy of a slice from a DataFrame\n",
      "\n",
      "See the caveats in the documentation: https://pandas.pydata.org/pandas-docs/stable/user_guide/indexing.html#returning-a-view-versus-a-copy\n",
      "  sa2['kidney'][sa2['KIDWKYR'] == 7] = np.nan\n",
      "C:\\Users\\abc\\AppData\\Local\\Temp\\ipykernel_25880\\3979012661.py:5: SettingWithCopyWarning: \n",
      "A value is trying to be set on a copy of a slice from a DataFrame\n",
      "\n",
      "See the caveats in the documentation: https://pandas.pydata.org/pandas-docs/stable/user_guide/indexing.html#returning-a-view-versus-a-copy\n",
      "  sa2['kidney'][sa2['KIDWKYR'] == 9] = np.nan\n"
     ]
    }
   ],
   "source": [
    "# 신장 약화가 이루어지면 1 안 이루어지면 0 결측치는 np.nan\n",
    "sa2['kidney'] = 1\n",
    "sa2['kidney'][sa2['KIDWKYR'] == 2] = 0\n",
    "sa2['kidney'][sa2['KIDWKYR'] == 7] = np.nan\n",
    "sa2['kidney'][sa2['KIDWKYR'] == 9] = np.nan"
   ]
  },
  {
   "cell_type": "code",
   "execution_count": 208,
   "metadata": {},
   "outputs": [
    {
     "name": "stderr",
     "output_type": "stream",
     "text": [
      "C:\\Users\\abc\\AppData\\Local\\Temp\\ipykernel_25880\\3908523558.py:10: SettingWithCopyWarning: \n",
      "A value is trying to be set on a copy of a slice from a DataFrame.\n",
      "Try using .loc[row_indexer,col_indexer] = value instead\n",
      "\n",
      "See the caveats in the documentation: https://pandas.pydata.org/pandas-docs/stable/user_guide/indexing.html#returning-a-view-versus-a-copy\n",
      "  sa2['dm'] = np.select(condlist, choicelist, default=np.nan)\n"
     ]
    }
   ],
   "source": [
    "# 당뇨진단 2: 당뇨, 1: 당뇨전단계 0: 정상\n",
    "\n",
    "### 조건과 선택할 배열들 정의\n",
    "condlist = [(sa2['DIBEV1'] == 1),\n",
    "            (sa2['DIBEV1'] == 3) | (sa2['DIBPRE2'] == 1),\n",
    "            (sa2['DIBEV1'] == 2) | (sa2['DIBPRE2'] == 2)]\n",
    "choicelist = [2, 1, 0]\n",
    "\n",
    "### 조건에 따라 배열 선택\n",
    "sa2['dm'] = np.select(condlist, choicelist, default=np.nan)"
   ]
  },
  {
   "cell_type": "code",
   "execution_count": 209,
   "metadata": {},
   "outputs": [
    {
     "name": "stderr",
     "output_type": "stream",
     "text": [
      "C:\\Users\\abc\\AppData\\Local\\Temp\\ipykernel_25880\\1564949470.py:8: SettingWithCopyWarning: \n",
      "A value is trying to be set on a copy of a slice from a DataFrame.\n",
      "Try using .loc[row_indexer,col_indexer] = value instead\n",
      "\n",
      "See the caveats in the documentation: https://pandas.pydata.org/pandas-docs/stable/user_guide/indexing.html#returning-a-view-versus-a-copy\n",
      "  sa2['dm'] = np.where((sa2['dm'] == 2) & (sa2['DIBAGE1'] < 18), 3, sa2['dm'])\n",
      "C:\\Users\\abc\\AppData\\Local\\Temp\\ipykernel_25880\\1564949470.py:9: SettingWithCopyWarning: \n",
      "A value is trying to be set on a copy of a slice from a DataFrame.\n",
      "Try using .loc[row_indexer,col_indexer] = value instead\n",
      "\n",
      "See the caveats in the documentation: https://pandas.pydata.org/pandas-docs/stable/user_guide/indexing.html#returning-a-view-versus-a-copy\n",
      "  sa2['heredity'] = np.where((sa2['dm'] == 3), 1, 0)\n"
     ]
    }
   ],
   "source": [
    "# 1형 당뇨와 2형 당뇨 구분해보기\n",
    "\n",
    "### 조건과 선택할 배열들 정의\n",
    "condlist = []\n",
    "choicelist = [2, 1, 0]\n",
    "\n",
    "### 조건에 따라 배열 선택\n",
    "sa2['dm'] = np.where((sa2['dm'] == 2) & (sa2['DIBAGE1'] < 18), 3, sa2['dm'])\n",
    "sa2['heredity'] = np.where((sa2['dm'] == 3), 1, 0)\n"
   ]
  },
  {
   "cell_type": "code",
   "execution_count": 210,
   "metadata": {},
   "outputs": [
    {
     "data": {
      "text/plain": [
       "heredity\n",
       "0    25254\n",
       "1      163\n",
       "Name: count, dtype: int64"
      ]
     },
     "execution_count": 210,
     "metadata": {},
     "output_type": "execute_result"
    }
   ],
   "source": [
    "# 유전 가정만 따로 빼서 보관하기\n",
    "here = sa2[['HHX', 'FMX', 'heredity']].groupby(['HHX', 'FMX']).max().reset_index()\n",
    "here['heredity'].value_counts()"
   ]
  },
  {
   "cell_type": "code",
   "execution_count": 211,
   "metadata": {},
   "outputs": [
    {
     "data": {
      "text/plain": [
       "SMKEV\n",
       "2    15292\n",
       "1    10047\n",
       "8       35\n",
       "9       25\n",
       "7       18\n",
       "Name: count, dtype: int64"
      ]
     },
     "execution_count": 211,
     "metadata": {},
     "output_type": "execute_result"
    }
   ],
   "source": [
    "sa2['SMKEV'].value_counts()"
   ]
  },
  {
   "cell_type": "code",
   "execution_count": 212,
   "metadata": {},
   "outputs": [
    {
     "name": "stderr",
     "output_type": "stream",
     "text": [
      "C:\\Users\\abc\\AppData\\Local\\Temp\\ipykernel_25880\\3193103298.py:11: SettingWithCopyWarning: \n",
      "A value is trying to be set on a copy of a slice from a DataFrame.\n",
      "Try using .loc[row_indexer,col_indexer] = value instead\n",
      "\n",
      "See the caveats in the documentation: https://pandas.pydata.org/pandas-docs/stable/user_guide/indexing.html#returning-a-view-versus-a-copy\n",
      "  sa2['smoke'] = np.select(condlist, choicelist, default=np.nan)\n"
     ]
    }
   ],
   "source": [
    "# 흡연 여부 1: 기 2: 아니\n",
    "\n",
    "### 조건과 선택할 배열들 정의\n",
    "condlist = [(sa2['SMKEV'] == 1) & (sa2['SMKNOW'] == 3) & (sa2['SMKQTTP'] == 4) &\n",
    "            (sa2['SMKQTNO'] >= 5) & (sa2['SMKQTNO'] <= 96),\n",
    "            (sa2['SMKEV'] == 1),\n",
    "            (sa2['SMKEV'] == 2)]\n",
    "choicelist = [0, 1, 0]\n",
    "\n",
    "### 조건에 따라 배열 선택\n",
    "sa2['smoke'] = np.select(condlist, choicelist, default=np.nan)"
   ]
  },
  {
   "cell_type": "code",
   "execution_count": 213,
   "metadata": {},
   "outputs": [
    {
     "name": "stderr",
     "output_type": "stream",
     "text": [
      "C:\\Users\\abc\\AppData\\Local\\Temp\\ipykernel_25880\\231527346.py:11: SettingWithCopyWarning: \n",
      "A value is trying to be set on a copy of a slice from a DataFrame.\n",
      "Try using .loc[row_indexer,col_indexer] = value instead\n",
      "\n",
      "See the caveats in the documentation: https://pandas.pydata.org/pandas-docs/stable/user_guide/indexing.html#returning-a-view-versus-a-copy\n",
      "  sa2['drink'] = np.select(condlist, choicelist, default=0)\n"
     ]
    }
   ],
   "source": [
    "# 음주 여부 1: 음주 기준치 이상 2: 이하\n",
    "\n",
    "### 조건과 선택할 배열들 정의\n",
    "condlist = [((sa2['ALC12MWK'] == 95) | ((sa2['ALC12MWK'] >= 0) & (sa2['ALC12MWK'] <= 2))) &\n",
    "            (sa2['ALCAMT'] >= 5),\n",
    "            ((sa2['ALC12MWK'] == 95) | ((sa2['ALC12MWK'] >= 0) & (sa2['ALC12MWK'] <= 2))),\n",
    "            (sa2['ALC12MWK'] >= 3) & (sa2['ALC12MWK'] <= 7)]\n",
    "choicelist = [1, 0, 1]\n",
    "\n",
    "### 조건에 따라 배열 선택\n",
    "sa2['drink'] = np.select(condlist, choicelist, default=0)"
   ]
  },
  {
   "cell_type": "code",
   "execution_count": 214,
   "metadata": {},
   "outputs": [
    {
     "data": {
      "text/plain": [
       "AHEIGHT\n",
       "66    2376\n",
       "67    2146\n",
       "64    2115\n",
       "65    1923\n",
       "63    1766\n",
       "70    1759\n",
       "68    1743\n",
       "69    1691\n",
       "62    1673\n",
       "96    1543\n",
       "72    1364\n",
       "71    1249\n",
       "61     887\n",
       "60     771\n",
       "73     770\n",
       "74     624\n",
       "59     312\n",
       "75     306\n",
       "76     180\n",
       "98     133\n",
       "99      53\n",
       "97      33\n",
       "Name: count, dtype: int64"
      ]
     },
     "execution_count": 214,
     "metadata": {},
     "output_type": "execute_result"
    }
   ],
   "source": [
    "sa2['AHEIGHT'].value_counts()"
   ]
  },
  {
   "cell_type": "code",
   "execution_count": 215,
   "metadata": {},
   "outputs": [
    {
     "name": "stderr",
     "output_type": "stream",
     "text": [
      "C:\\Users\\abc\\AppData\\Local\\Temp\\ipykernel_25880\\3839264352.py:2: SettingWithCopyWarning: \n",
      "A value is trying to be set on a copy of a slice from a DataFrame.\n",
      "Try using .loc[row_indexer,col_indexer] = value instead\n",
      "\n",
      "See the caveats in the documentation: https://pandas.pydata.org/pandas-docs/stable/user_guide/indexing.html#returning-a-view-versus-a-copy\n",
      "  sa2['height'] = np.where(sa2['AHEIGHT'].isin([96, 97, 98, 99]), np.nan, round(sa2['AHEIGHT']*2.54, 1))\n",
      "C:\\Users\\abc\\AppData\\Local\\Temp\\ipykernel_25880\\3839264352.py:3: SettingWithCopyWarning: \n",
      "A value is trying to be set on a copy of a slice from a DataFrame.\n",
      "Try using .loc[row_indexer,col_indexer] = value instead\n",
      "\n",
      "See the caveats in the documentation: https://pandas.pydata.org/pandas-docs/stable/user_guide/indexing.html#returning-a-view-versus-a-copy\n",
      "  sc2['height'] = np.where(sc2['CHGHT_TC'].isin([96, 97, 98, 99]), np.nan, round(sc2['CHGHT_TC']*2.54, 1))\n"
     ]
    }
   ],
   "source": [
    "# 키 inch를 cm로 바꾸기\n",
    "sa2['height'] = np.where(sa2['AHEIGHT'].isin([96, 97, 98, 99]), np.nan, round(sa2['AHEIGHT']*2.54, 1))\n",
    "sc2['height'] = np.where(sc2['CHGHT_TC'].isin([96, 97, 98, 99]), np.nan, round(sc2['CHGHT_TC']*2.54, 1))"
   ]
  },
  {
   "cell_type": "code",
   "execution_count": 216,
   "metadata": {},
   "outputs": [
    {
     "name": "stderr",
     "output_type": "stream",
     "text": [
      "C:\\Users\\abc\\AppData\\Local\\Temp\\ipykernel_25880\\4172822680.py:2: SettingWithCopyWarning: \n",
      "A value is trying to be set on a copy of a slice from a DataFrame.\n",
      "Try using .loc[row_indexer,col_indexer] = value instead\n",
      "\n",
      "See the caveats in the documentation: https://pandas.pydata.org/pandas-docs/stable/user_guide/indexing.html#returning-a-view-versus-a-copy\n",
      "  sa2['weight'] = np.where(sa2['AWEIGHTP'].isin([996, 997, 998, 999]), np.nan, round(sa2['AWEIGHTP']*0.453592, 1))\n",
      "C:\\Users\\abc\\AppData\\Local\\Temp\\ipykernel_25880\\4172822680.py:3: SettingWithCopyWarning: \n",
      "A value is trying to be set on a copy of a slice from a DataFrame.\n",
      "Try using .loc[row_indexer,col_indexer] = value instead\n",
      "\n",
      "See the caveats in the documentation: https://pandas.pydata.org/pandas-docs/stable/user_guide/indexing.html#returning-a-view-versus-a-copy\n",
      "  sc2['weight'] = np.where(sc2['CWGHT_TC'].isin([996, 997, 998, 999]), np.nan, round(sc2['CWGHT_TC']*0.453592, 1))\n"
     ]
    }
   ],
   "source": [
    "# 몸무게 pound를 kg으로 바꾸기\n",
    "sa2['weight'] = np.where(sa2['AWEIGHTP'].isin([996, 997, 998, 999]), np.nan, round(sa2['AWEIGHTP']*0.453592, 1))\n",
    "sc2['weight'] = np.where(sc2['CWGHT_TC'].isin([996, 997, 998, 999]), np.nan, round(sc2['CWGHT_TC']*0.453592, 1))"
   ]
  },
  {
   "cell_type": "code",
   "execution_count": 217,
   "metadata": {},
   "outputs": [
    {
     "name": "stderr",
     "output_type": "stream",
     "text": [
      "C:\\Users\\abc\\AppData\\Local\\Temp\\ipykernel_25880\\2817666150.py:2: SettingWithCopyWarning: \n",
      "A value is trying to be set on a copy of a slice from a DataFrame.\n",
      "Try using .loc[row_indexer,col_indexer] = value instead\n",
      "\n",
      "See the caveats in the documentation: https://pandas.pydata.org/pandas-docs/stable/user_guide/indexing.html#returning-a-view-versus-a-copy\n",
      "  sa2['bmi'] = sa2['weight']/(sa2['height']**2)*100**2\n",
      "C:\\Users\\abc\\AppData\\Local\\Temp\\ipykernel_25880\\2817666150.py:3: SettingWithCopyWarning: \n",
      "A value is trying to be set on a copy of a slice from a DataFrame.\n",
      "Try using .loc[row_indexer,col_indexer] = value instead\n",
      "\n",
      "See the caveats in the documentation: https://pandas.pydata.org/pandas-docs/stable/user_guide/indexing.html#returning-a-view-versus-a-copy\n",
      "  sc2['bmi'] = sc2['weight']/(sc2['height']**2)*100**2\n"
     ]
    }
   ],
   "source": [
    "# bmi 계산하기\n",
    "sa2['bmi'] = sa2['weight']/(sa2['height']**2)*100**2\n",
    "sc2['bmi'] = sc2['weight']/(sc2['height']**2)*100**2"
   ]
  },
  {
   "cell_type": "code",
   "execution_count": 218,
   "metadata": {},
   "outputs": [
    {
     "data": {
      "text/plain": [
       "ASICPUSE\n",
       "4    15727\n",
       "1     5386\n",
       "2     2555\n",
       "3     1381\n",
       "8      353\n",
       "7        8\n",
       "9        7\n",
       "Name: count, dtype: int64"
      ]
     },
     "execution_count": 218,
     "metadata": {},
     "output_type": "execute_result"
    }
   ],
   "source": [
    "sa2['ASICPUSE'].value_counts()"
   ]
  },
  {
   "cell_type": "code",
   "execution_count": 219,
   "metadata": {},
   "outputs": [
    {
     "name": "stderr",
     "output_type": "stream",
     "text": [
      "C:\\Users\\abc\\AppData\\Local\\Temp\\ipykernel_25880\\2517226205.py:4: SettingWithCopyWarning: \n",
      "A value is trying to be set on a copy of a slice from a DataFrame.\n",
      "Try using .loc[row_indexer,col_indexer] = value instead\n",
      "\n",
      "See the caveats in the documentation: https://pandas.pydata.org/pandas-docs/stable/user_guide/indexing.html#returning-a-view-versus-a-copy\n",
      "  sa2['comp_use'] = np.where(sa2['ASICPUSE'].isin([7, 8, 9]), np.nan, sa2['ASICPUSE'])\n"
     ]
    }
   ],
   "source": [
    "# 컴퓨터 사용정도: 결측치는 다 빼기\n",
    "\n",
    "### 조건에 따라 배열 선택\n",
    "sa2['comp_use'] = np.where(sa2['ASICPUSE'].isin([7, 8, 9]), np.nan, sa2['ASICPUSE'])"
   ]
  },
  {
   "cell_type": "code",
   "execution_count": 220,
   "metadata": {},
   "outputs": [
    {
     "name": "stderr",
     "output_type": "stream",
     "text": [
      "C:\\Users\\abc\\AppData\\Local\\Temp\\ipykernel_25880\\843183503.py:4: SettingWithCopyWarning: \n",
      "A value is trying to be set on a copy of a slice from a DataFrame.\n",
      "Try using .loc[row_indexer,col_indexer] = value instead\n",
      "\n",
      "See the caveats in the documentation: https://pandas.pydata.org/pandas-docs/stable/user_guide/indexing.html#returning-a-view-versus-a-copy\n",
      "  sa2['sleep_hour'] = np.where(sa2['ASISLEEP'].isin([97, 98, 99]), np.nan, sa2['ASISLEEP'])\n"
     ]
    }
   ],
   "source": [
    "# 수면 시간(시간 단위): 결측치는 다 빼기\n",
    "\n",
    "### 조건에 따라 배열 선택\n",
    "sa2['sleep_hour'] = np.where(sa2['ASISLEEP'].isin([97, 98, 99]), np.nan, sa2['ASISLEEP'])"
   ]
  },
  {
   "cell_type": "code",
   "execution_count": 221,
   "metadata": {},
   "outputs": [
    {
     "data": {
      "text/plain": [
       "CCONDRR6\n",
       "2    8252\n",
       "1      15\n",
       "9       1\n",
       "7       1\n",
       "Name: count, dtype: int64"
      ]
     },
     "execution_count": 221,
     "metadata": {},
     "output_type": "execute_result"
    }
   ],
   "source": [
    "sc2['CCONDRR6'].value_counts()"
   ]
  },
  {
   "cell_type": "code",
   "execution_count": 222,
   "metadata": {},
   "outputs": [
    {
     "name": "stderr",
     "output_type": "stream",
     "text": [
      "C:\\Users\\abc\\AppData\\Local\\Temp\\ipykernel_25880\\1171276200.py:2: SettingWithCopyWarning: \n",
      "A value is trying to be set on a copy of a slice from a DataFrame.\n",
      "Try using .loc[row_indexer,col_indexer] = value instead\n",
      "\n",
      "See the caveats in the documentation: https://pandas.pydata.org/pandas-docs/stable/user_guide/indexing.html#returning-a-view-versus-a-copy\n",
      "  sc2['dm'] = np.where(sc2['CCONDRR6'].isin([7, 9]), 2, sc2['CCONDRR6'])\n"
     ]
    }
   ],
   "source": [
    "# 결측치 2건 단순하게 NO로 반영하기\n",
    "sc2['dm'] = np.where(sc2['CCONDRR6'].isin([7, 9]), 2, sc2['CCONDRR6'])"
   ]
  },
  {
   "cell_type": "code",
   "execution_count": 223,
   "metadata": {},
   "outputs": [
    {
     "name": "stderr",
     "output_type": "stream",
     "text": [
      "C:\\Users\\abc\\AppData\\Local\\Temp\\ipykernel_25880\\3050801277.py:14: SettingWithCopyWarning: \n",
      "A value is trying to be set on a copy of a slice from a DataFrame.\n",
      "Try using .loc[row_indexer,col_indexer] = value instead\n",
      "\n",
      "See the caveats in the documentation: https://pandas.pydata.org/pandas-docs/stable/user_guide/indexing.html#returning-a-view-versus-a-copy\n",
      "  sa2['exercise'] = np.select(condlist, choicelist, default=np.nan)\n"
     ]
    }
   ],
   "source": [
    "# 운동 여부 1: 주2회 이상 2: 안함\n",
    "\n",
    "### 조건과 선택할 배열들 정의\n",
    "condlist = [((sa2['VIGFREQW'] >= 2) & (sa2['VIGFREQW'] < 30)),\n",
    "    (sa2['VIGFREQW'] == 95) | ((sa2['VIGFREQW'] >= 0) & (sa2['VIGFREQW'] <= 1)),\n",
    "    ((sa2['MODFREQW'] >= 2) & (sa2['MODFREQW'] < 30)),\n",
    "    (sa2['MODFREQW'] == 95) | ((sa2['MODFREQW'] >= 0) & (sa2['MODFREQW'] <= 1)),\n",
    "    ((sa2['STRFREQW'] >= 2) & (sa2['STRFREQW'] < 30)),\n",
    "    (sa2['STRFREQW'] == 95) | ((sa2['STRFREQW'] >= 0) & (sa2['STRFREQW'] <= 1))\n",
    "    ]\n",
    "choicelist = [1, 0, 1, 0, 1, 0]\n",
    "\n",
    "### 조건에 따라 배열 선택\n",
    "sa2['exercise'] = np.select(condlist, choicelist, default=np.nan)"
   ]
  },
  {
   "cell_type": "markdown",
   "metadata": {},
   "source": [
    "###  3. data merge"
   ]
  },
  {
   "cell_type": "code",
   "execution_count": 224,
   "metadata": {},
   "outputs": [],
   "source": [
    "# need variables\n",
    "fm3 = fm2[['HHX', 'FMX', 'live_alone', 'imbal_meal']]\n",
    "sc3 = sc2[['HHX', 'FMX', 'FPX', 'SEX', 'AGE_P', 'REGION',\n",
    "            'RACERPI2', 'height', 'weight', 'bmi', 'dm']]\n",
    "sa3 = sa2[['HHX', 'FMX', 'FPX', 'SEX', 'AGE_P', 'REGION',\n",
    "           'RACERPI2', 'height', 'weight', 'bmi', 'hypert',\n",
    "           'chol', 'chdev', 'strev', 'depress', 'preg',\n",
    "           'kidney', 'dm', 'smoke', 'drink', 'height', 'weight',\n",
    "           'bmi', 'comp_use', 'sleep_hour', 'exercise']]"
   ]
  },
  {
   "cell_type": "code",
   "execution_count": 242,
   "metadata": {},
   "outputs": [],
   "source": [
    "# child 구성하기\n",
    "tmp = pd.merge(sc3, fm3, on = ['HHX', 'FMX'], how = 'left')\n",
    "tmp2 = pd.merge(tmp, here, on = ['HHX', 'FMX'], how = 'left')"
   ]
  },
  {
   "cell_type": "code",
   "execution_count": 247,
   "metadata": {},
   "outputs": [],
   "source": [
    "# 당뇨병 1: 진단을 받았거나, 유전적으로 존재하는 경우, 0: 그외\n",
    "\n",
    "### 조건과 선택할 배열들 정의\n",
    "condlist = [(tmp2['dm'] == 1),\n",
    "            (tmp2['heredity'] == 1),\n",
    "            (tmp2['dm'] == 0) | (tmp2['heredity'] == 0)]\n",
    "choicelist = [1, 1, 0]\n",
    "\n",
    "### 조건에 따라 배열 선택\n",
    "tmp2['dm2'] = np.select(condlist, choicelist, default=np.nan)"
   ]
  },
  {
   "cell_type": "code",
   "execution_count": 249,
   "metadata": {},
   "outputs": [
    {
     "data": {
      "text/plain": [
       "dm2\n",
       "0.0    2110\n",
       "1.0      20\n",
       "Name: count, dtype: int64"
      ]
     },
     "execution_count": 249,
     "metadata": {},
     "output_type": "execute_result"
    }
   ],
   "source": [
    "tmp2.drop(['dm', 'heredity'], axis = 1).dropna()['dm2'].value_counts()"
   ]
  },
  {
   "cell_type": "code",
   "execution_count": 228,
   "metadata": {},
   "outputs": [
    {
     "data": {
      "text/plain": [
       "heredity\n",
       "0.0    6760\n",
       "1.0      42\n",
       "Name: count, dtype: int64"
      ]
     },
     "execution_count": 228,
     "metadata": {},
     "output_type": "execute_result"
    }
   ],
   "source": [
    "tmp2['heredity'].value_counts()"
   ]
  },
  {
   "cell_type": "code",
   "execution_count": 229,
   "metadata": {},
   "outputs": [
    {
     "data": {
      "text/plain": [
       "heredity\n",
       "0.0    2115\n",
       "1.0      13\n",
       "Name: count, dtype: int64"
      ]
     },
     "execution_count": 229,
     "metadata": {},
     "output_type": "execute_result"
    }
   ],
   "source": [
    "tmp2_dropna['heredity'].value_counts()"
   ]
  },
  {
   "cell_type": "markdown",
   "metadata": {},
   "source": [
    "- child의 정보에서 당뇨를 가려낼 dm변수와 당뇨 유전 가능성인 heredity의 변수가 현저히 적음 -> 모델링하기 부적합하다 판단됨."
   ]
  },
  {
   "cell_type": "code",
   "execution_count": 240,
   "metadata": {},
   "outputs": [],
   "source": [
    "# adult 구성하기\n",
    "tp = pd.merge(sa3, fm3, on = ['HHX', 'FMX'], how = 'left')\n",
    "\n",
    "# 1형 당뇨 환자 제거하기\n",
    "adult = tp[tp['dm'] != 3]\n",
    "\n",
    "# 결측치 있는 행 제거하기\n",
    "a = adult.dropna()"
   ]
  },
  {
   "cell_type": "code",
   "execution_count": 251,
   "metadata": {},
   "outputs": [
    {
     "data": {
      "text/plain": [
       "dm\n",
       "0.0    3309\n",
       "2.0     622\n",
       "1.0     427\n",
       "Name: count, dtype: int64"
      ]
     },
     "execution_count": 251,
     "metadata": {},
     "output_type": "execute_result"
    }
   ],
   "source": [
    "# 당뇨병을 앓지 않은 사람이 많지만 대체적으로 정보가 많은 편\n",
    "# 깔끔하게 만들어둔 데이터를 활용하기로 한다.\n",
    "a['dm'].value_counts()"
   ]
  },
  {
   "cell_type": "code",
   "execution_count": 252,
   "metadata": {},
   "outputs": [],
   "source": [
    "# 데이터 저장\n",
    "a.to_csv(\"../Data/adult_use_data.csv\", index = False)"
   ]
  }
 ],
 "metadata": {
  "kernelspec": {
   "display_name": "ss",
   "language": "python",
   "name": "python3"
  },
  "language_info": {
   "codemirror_mode": {
    "name": "ipython",
    "version": 3
   },
   "file_extension": ".py",
   "mimetype": "text/x-python",
   "name": "python",
   "nbconvert_exporter": "python",
   "pygments_lexer": "ipython3",
   "version": "3.8.17"
  }
 },
 "nbformat": 4,
 "nbformat_minor": 2
}
